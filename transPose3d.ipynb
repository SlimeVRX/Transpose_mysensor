{
 "cells": [
  {
   "cell_type": "code",
   "execution_count": 1,
   "metadata": {},
   "outputs": [],
   "source": [
    "import os\n",
    "import pickle\n",
    "os.environ[\"KMP_DUPLICATE_LIB_OK\"]=\"TRUE\"\n",
    "import torch\n",
    "from torch import optim\n",
    "from tqdm.notebook import tqdm\n",
    "import torch.nn.functional as F\n",
    "import itertools\n",
    "from model import *\n",
    "from dataset_loader import create_data_loader\n",
    "from loss_func import *"
   ]
  },
  {
   "cell_type": "code",
   "execution_count": 2,
   "metadata": {},
   "outputs": [
    {
     "name": "stdout",
     "output_type": "stream",
     "text": [
      "cuda\n"
     ]
    }
   ],
   "source": [
    "lr = 0.001 # 学习率\n",
    "epoches = 2000 #训练次数\n",
    "batch_size = 256 # 每一个训练批次数量\n",
    "start_epoch = 0\n",
    "device = \"cuda\" if torch.cuda.is_available() else \"cpu\"\n",
    "print(device)"
   ]
  },
  {
   "cell_type": "code",
   "execution_count": 3,
   "metadata": {},
   "outputs": [],
   "source": [
    "poseS1 = PoseS1().to(device)\n",
    "poseS2 = PoseS2().to(device)\n",
    "poseS3 = PoseS3().to(device)\n",
    "transB1 = TransB1().to(device)\n",
    "transB2 = TransB2().to(device)\n",
    "\n",
    "Ls1 = poseLoss # 叶关节点位置的loss\n",
    "Ls2 = poseLoss # 除胯外的关节位置的loss\n",
    "Ls3 = poseLoss # 除胯外的关节6d旋转的loss\n",
    "Lb1 = crossEntropy # 接触脚的概率\n",
    "Lb2 = ver_n_loss # 连续1,3,9,27帧的位移loss\n",
    "\n",
    "optimizer = optim.Adam(filter(lambda p: p.requires_grad,  itertools.chain(poseS1.parameters(),\n",
    "                                       poseS2.parameters(),\n",
    "                                       poseS3.parameters(),\n",
    "                                       transB1.parameters(),\n",
    "                                       transB2.parameters())), lr=lr)"
   ]
  },
  {
   "cell_type": "code",
   "execution_count": 4,
   "metadata": {},
   "outputs": [],
   "source": [
    "def load_checkpoint(filepath):\n",
    "    checkpoint = torch.load(filepath)\n",
    "    global start_epoch\n",
    "    start_epoch = checkpoint['epoch']\n",
    "    models = checkpoint['modes'] # 提取网络结构\n",
    "    models_state_dict = checkpoint['models_state_dict']  # 提取网络结构\n",
    "    for model, state_dict in zip([poseS1,  poseS2, poseS3, transB1, transB2], models_state_dict):\n",
    "        model.load_state_dict(state_dict)  # 加载网络权重参数\n",
    "    optimizer.load_state_dict(checkpoint['optimizer_state_dict'])  # 加载优化器参数\n",
    "    \n",
    "    for parameter in model.parameters():\n",
    "        parameter.requires_grad = True\n",
    "    model.train()\n",
    "    \n",
    "    return models\n",
    "models = load_checkpoint(\"./checkpoint/checkpoint_best_transB1.pth\")\n",
    "for p in poseS1.parameters():\n",
    "    p.requires_grad=False\n",
    "for p in poseS2.parameters():\n",
    "    p.requires_grad=False\n",
    "for p in poseS3.parameters():\n",
    "    p.requires_grad=False\n",
    "for p in transB1.parameters():\n",
    "    p.requires_grad=False\n",
    "\n"
   ]
  },
  {
   "cell_type": "code",
   "execution_count": 5,
   "metadata": {
    "pycharm": {
     "name": "#%%\n"
    },
    "tags": []
   },
   "outputs": [
    {
     "name": "stdout",
     "output_type": "stream",
     "text": [
      "训练集大小36858， 验证集大小9215， 测试集大小46073\n"
     ]
    }
   ],
   "source": [
    "train_loader, test_loader, valid_loader = create_data_loader(batch_size)"
   ]
  },
  {
   "cell_type": "code",
   "execution_count": 7,
   "metadata": {
    "pycharm": {
     "is_executing": true,
     "name": "#%%\n"
    },
    "scrolled": true,
    "tags": []
   },
   "outputs": [
    {
     "data": {
      "application/vnd.jupyter.widget-view+json": {
       "model_id": "cc718d3a879340f78c0f64283ecebf4d",
       "version_major": 2,
       "version_minor": 0
      },
      "text/plain": [
       "  0%|          | 0/143 [00:00<?, ?it/s, training]"
      ]
     },
     "metadata": {},
     "output_type": "display_data"
    }
   ],
  },
  {
   "cell_type": "code",
   "execution_count": null,
   "metadata": {},
   "outputs": [],
   "source": []
  }
 ],
 "metadata": {
  "kernelspec": {
   "display_name": "Python 3.8.10 64-bit",
   "language": "python",
   "name": "python3810jvsc74a57bd0e1617654b9a844d1d5c3f39905eff0ee5c78cb466aa242fb2d2abfff0dae271b"
  },
  "language_info": {
   "codemirror_mode": {
    "name": "ipython",
    "version": 3
   },
   "file_extension": ".py",
   "mimetype": "text/x-python",
   "name": "python",
   "nbconvert_exporter": "python",
   "pygments_lexer": "ipython3",
   "version": "3.8.10"
  }
 },
 "nbformat": 4,
 "nbformat_minor": 2
}
