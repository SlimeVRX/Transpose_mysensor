{
 "cells": [
  {
   "cell_type": "code",
   "execution_count": 1,
   "id": "010315a1",
   "metadata": {},
   "outputs": [],
   "source": [
    "import numpy as np"
   ]
  },
  {
   "cell_type": "code",
   "execution_count": null,
   "id": "baf87f4e",
   "metadata": {},
   "outputs": [],
   "source": [
    "data = np.load('/media/lab1008/D81E5E771E5E4F1E/xd/acc2pos/dataset/merge_data.npz', allow_pickle=True)\n",
    "data = dict(data)"
   ]
  },
  {
   "cell_type": "code",
   "execution_count": null,
   "id": "9781e0c4",
   "metadata": {},
   "outputs": [],
   "source": [
    "dd = {}"
   ]
  },
  {
   "cell_type": "code",
   "execution_count": null,
   "id": "4e59d144",
   "metadata": {},
   "outputs": [],
   "source": [
    "for key in data.keys():\n",
    "    for i in range(512, 1024):\n",
    "        item = data[key][i]\n",
    "        if key not in dd:\n",
    "            dd[key] = [item, ]\n",
    "        else:\n",
    "            dd[key].append(item)"
   ]
  },
  {
   "cell_type": "code",
   "execution_count": null,
   "id": "e555a3f8",
   "metadata": {},
   "outputs": [],
   "source": [
    "np.savez(\"/media/lab1008/D81E5E771E5E4F1E/xd/acc2pos/dataset/small_data.npz\", **dd)"
   ]
  },
  {
   "cell_type": "code",
   "execution_count": null,
   "id": "b51b8594",
   "metadata": {},
   "outputs": [],
   "source": []
  }
 ],
 "metadata": {
  "kernelspec": {
   "display_name": "Python 3",
   "language": "python",
   "name": "python3"
  },
  "language_info": {
   "codemirror_mode": {
    "name": "ipython",
    "version": 3
   },
   "file_extension": ".py",
   "mimetype": "text/x-python",
   "name": "python",
   "nbconvert_exporter": "python",
   "pygments_lexer": "ipython3",
   "version": "3.7.5"
  }
 },
 "nbformat": 4,
 "nbformat_minor": 5
}
